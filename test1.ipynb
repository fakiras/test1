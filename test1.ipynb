\documentclass{article}
\usepackage{amsmath} % для математических функций

\begin{document}

\title{Заголовок}
\date{\today}

\maketitle

\section{Введение}

Этот документ написан с помощью LaTeX.
Он содержит математическую формулу: $e^x = \sum_{n=0}^{\infty} \frac{x^n}{n!}$.

\section{Заключение}

LaTeX - мощный инструмент для создания профессиональных документов.

\end{document}